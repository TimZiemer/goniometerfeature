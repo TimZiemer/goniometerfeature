{
 "cells": [
  {
   "cell_type": "markdown",
   "id": "cfb0e6eb",
   "metadata": {},
   "source": [
    "# Extract Phase Scope and Channel Correlation Feature from a list of MP3 files"
   ]
  },
  {
   "cell_type": "code",
   "execution_count": 1,
   "id": "c5e42f6e",
   "metadata": {},
   "outputs": [],
   "source": [
    "import os\n",
    "import numpy as np\n",
    "import librosa\n",
    "import csv"
   ]
  },
  {
   "cell_type": "markdown",
   "id": "e77f1065",
   "metadata": {},
   "source": [
    "# Set File Path"
   ]
  },
  {
   "cell_type": "code",
   "execution_count": 5,
   "id": "a1d23029",
   "metadata": {},
   "outputs": [],
   "source": [
    "path = r'C:\\path' #file path that contains mp3 files to be analyzed\n",
    "mp3list = []\n",
    "for root, dirs, files in os.walk(path):#loop to list all file paths\n",
    "    for file in files:\n",
    "        mp3list.append(os.path.join(root,file))\n",
    "        \n",
    "fs = 2048 # frame size\n",
    "ss = fs # step size"
   ]
  },
  {
   "cell_type": "markdown",
   "id": "c4305910",
   "metadata": {},
   "source": [
    "# Define Goniometer Feature Extractor"
   ]
  },
  {
   "cell_type": "code",
   "execution_count": 7,
   "id": "739de779",
   "metadata": {},
   "outputs": [],
   "source": [
    "# Extraction  of all recording studio features\n",
    "def goniometer(cut, fs, ss):\n",
    "    phasescope = []\n",
    "    corr=[]\n",
    "    for frame in range(int(len(cut[0])/fs)):\n",
    "        box = [[0,0] for i in range(fs)]\n",
    "        left = [0 for i in range(fs)]\n",
    "        for i in range(fs):\n",
    "            left[i]=cut[0][frame*ss+i]\n",
    "            box[i]=[int(round(left[i]*10)),int(round(cut[1][frame*ss+i]*10))]\n",
    "        corr.append(np.min(np.corrcoef(cut[0][frame*ss:frame*ss+fs],cut[1][frame*ss:frame*ss+fs])))\n",
    "        phasescope.append(len(np.unique(box))/400)\n",
    "    return phasescope, corr"
   ]
  },
  {
   "cell_type": "markdown",
   "id": "7c664b5e",
   "metadata": {},
   "source": [
    "# Extract from Audio files and write into CSV files "
   ]
  },
  {
   "cell_type": "code",
   "execution_count": 8,
   "id": "e725a765",
   "metadata": {
    "scrolled": false
   },
   "outputs": [
    {
     "name": "stdout",
     "output_type": "stream",
     "text": [
      "C:\\python\\music\\shittrance\\09 - Gigi D'Agostino - L'Amour Toujours CD 1 - L'Amour.mp3\n",
      "C:\\python\\music\\shittrance\\10 - Gigi D'Agostino - L'Amour Toujours CD 2 - Elektro Message.mp3\n",
      "C:\\python\\music\\shittrance\\207-armin_van_buuren_-_birth_of_an_angel-qmi.mp3\n",
      "C:\\python\\music\\shittrance\\666 - Paradoxx.mp3\n",
      "C:\\python\\music\\shittrance\\Adrima - Living On A Fantasy.mp3\n",
      "C:\\python\\music\\shittrance\\Angeles - High Horse.mp3\n",
      "C:\\python\\music\\shittrance\\Aqualords - The Stuff.mp3\n",
      "C:\\python\\music\\shittrance\\Beam & Yanou - Paraiso (Dj Beam radio mix).mp3\n",
      "C:\\python\\music\\shittrance\\Billy Hendrix - Body Shine.mp3\n",
      "C:\\python\\music\\shittrance\\Blank & Jones - Beyond time (Blank & Jones laidback mix).mp3\n",
      "C:\\python\\music\\shittrance\\Brooklyn Bounce - Feel my Energy.mp3\n",
      "C:\\python\\music\\shittrance\\D-Tune - Into The Light.mp3\n",
      "C:\\python\\music\\shittrance\\Dag & Alan - Another hot day at the bay.mp3\n",
      "C:\\python\\music\\shittrance\\Dag & Alan - Stoner.mp3\n",
      "C:\\python\\music\\shittrance\\Dance Nation - Sunshine(Alien Factory Remix).mp3\n",
      "C:\\python\\music\\shittrance\\Dj Ed - The bug day.mp3\n",
      "C:\\python\\music\\shittrance\\DJ Looney Tune - Jumpin' & Pumpin'.mp3\n"
     ]
    },
    {
     "name": "stderr",
     "output_type": "stream",
     "text": [
      "C:\\Users\\t_ziemer\\AppData\\Local\\Programs\\Python\\Python310\\lib\\site-packages\\librosa\\util\\decorators.py:88: UserWarning: PySoundFile failed. Trying audioread instead.\n",
      "  return f(*args, **kwargs)\n"
     ]
    },
    {
     "name": "stdout",
     "output_type": "stream",
     "text": [
      "C:\\python\\music\\shittrance\\DJ Mystic - Eternity Remix.mp3\n",
      "C:\\python\\music\\shittrance\\DJ Pierre Hiver Vs. M. Hammer - Are You Cool.mp3\n",
      "C:\\python\\music\\shittrance\\DJ TIbbY - Eternity.mp3\n",
      "C:\\python\\music\\shittrance\\Elastique Culture - La muzika (Cyrus & the Joker mix).mp3\n",
      "C:\\python\\music\\shittrance\\Front 242 - headhunter 2000 talla 2xlc club mix vinyl nbd.mp3\n",
      "C:\\python\\music\\shittrance\\Future Breeze - Animal (Ron-Bon-Beat Project Edit).mp3\n",
      "C:\\python\\music\\shittrance\\Future Breeze - House.mp3\n",
      "C:\\python\\music\\shittrance\\Future Breeze - How Much Can You Take (Single Edit).mp3\n",
      "C:\\python\\music\\shittrance\\Future Breeze - Illusion.mp3\n",
      "C:\\python\\music\\shittrance\\Future Breeze - Islamic Nights.mp3\n",
      "C:\\python\\music\\shittrance\\Future Breeze - why don´t you dance with me.mp3\n",
      "C:\\python\\music\\shittrance\\Joachim Witt - und... ich lauf (eternal basement Mischung).mp3\n",
      "C:\\python\\music\\shittrance\\Kay Cee - Millennium Stringz (Radio Edit).mp3\n",
      "C:\\python\\music\\shittrance\\Kosmonova - Ayla (clubsounds mix).mp3\n",
      "C:\\python\\music\\shittrance\\Kosmonova - I'll Bop You (Long Version).mp3\n",
      "C:\\python\\music\\shittrance\\Merlyn & Chuck Mellow - Fünf.mp3\n",
      "C:\\python\\music\\shittrance\\Miss Distess X Vs. Kaylab - Clubbing.mp3\n",
      "C:\\python\\music\\shittrance\\Niels Van Gogh - Pulverturm.mp3\n",
      "C:\\python\\music\\shittrance\\OceanLab_Clear.mp3\n",
      "C:\\python\\music\\shittrance\\Orion Vs. Ayla - Eternity (Darren Tate Mix).mp3\n",
      "C:\\python\\music\\shittrance\\Push - Universal Nation.mp3\n",
      "C:\\python\\music\\shittrance\\Rank 1 - Breathing (airwave).mp3\n",
      "C:\\python\\music\\shittrance\\Rank 1 - Symsonic - 02 - Cosmomatic.mp3\n",
      "C:\\python\\music\\shittrance\\Rank 1 - Symsonic - 10 - Passage To The Unknown.mp3\n",
      "C:\\python\\music\\shittrance\\Rank 1 - Symsonic - 14 - Such Is Life (Marco V Remix).mp3\n",
      "C:\\python\\music\\shittrance\\Red Light District - Did You Hear Me-.mp3\n",
      "C:\\python\\music\\shittrance\\Sash - It's My Life_ The Remix Edition - Ecuador (Feat Rodriguez-Future Breeze Remix).mp3\n",
      "C:\\python\\music\\shittrance\\Scooter - One.mp3\n",
      "C:\\python\\music\\shittrance\\SCOOTER - Stuck On Replay (Radio Edit).MP3\n",
      "C:\\python\\music\\shittrance\\SCOOTER - The Sound Above My Hair.MP3\n",
      "C:\\python\\music\\shittrance\\SEPTEMBER - Cry for You.MP3\n",
      "C:\\python\\music\\shittrance\\Silent Breed - Sync In.mp3\n",
      "C:\\python\\music\\shittrance\\Southside Spinners - Lovestruck 2000.mp3\n",
      "C:\\python\\music\\shittrance\\Southside Spinners - Luvstruck (Marco V. & Benjamin Remix).mp3\n",
      "C:\\python\\music\\shittrance\\Space Frog Feat. The Duke - Die Unendlichkeit.mp3\n",
      "C:\\python\\music\\shittrance\\Spellbound - Universe Of Life.mp3\n",
      "C:\\python\\music\\shittrance\\Talla 2XLC - Innocence.mp3\n",
      "C:\\python\\music\\shittrance\\Taucher - Lucky Star.mp3\n",
      "C:\\python\\music\\shittrance\\TBS_-_Ich_Kenne__Dub_Mix_.mp3\n",
      "C:\\python\\music\\shittrance\\Tony H - Zoo Future.mp3\n",
      "C:\\python\\music\\shittrance\\Trance Genetic - Around your Space (Trance Genetic Mix).mp3\n",
      "C:\\python\\music\\shittrance\\Yves Deruyter - To The Rhythm.mp3\n"
     ]
    }
   ],
   "source": [
    "for n in range(len(mp3list)):\n",
    "    while True:\n",
    "        try:\n",
    "            array, sr=librosa.load(mp3list[n],sr=22050,mono=False)#will resample to 22050 Hz but NOT convert to mono\n",
    "            print(mp3list[n])\n",
    "            cut = [array[0][math.floor(len(array[0])/2)-fs*250:math.floor(len(array[0])/2)+fs*250],array[1][math.floor(len(array[0])/2)-fs*250:math.floor(len(array[0])/2)+fs*250]]\n",
    "# \"cut\" copies around 45 seconds from the middle of an audio file to extract the goniometer features\n",
    "# feel free to redefine \"cut\", e.g. as a complete stereo song or just a bunch of time frames\n",
    "            phasescope, corr = goniometer(cut, fs, ss)\n",
    "            features=[np.transpose(phasescope), np.transpose(corr)] \n",
    "            Details = ['PhaseScope', 'ChannelCorrelation']  \n",
    "            with open(mp3list[n]+'.csv', 'w', newline='') as f: \n",
    "                write = csv.writer(f) \n",
    "                write.writerow(Details) \n",
    "                write.writerows(np.transpose(features))\n",
    "        except:\n",
    "            break "
   ]
  }
 ],
 "metadata": {
  "kernelspec": {
   "display_name": "Python 3 (ipykernel)",
   "language": "python",
   "name": "python3"
  },
  "language_info": {
   "codemirror_mode": {
    "name": "ipython",
    "version": 3
   },
   "file_extension": ".py",
   "mimetype": "text/x-python",
   "name": "python",
   "nbconvert_exporter": "python",
   "pygments_lexer": "ipython3",
   "version": "3.10.7"
  }
 },
 "nbformat": 4,
 "nbformat_minor": 5
}
