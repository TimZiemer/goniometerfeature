{
 "cells": [
  {
   "cell_type": "markdown",
   "id": "cfb0e6eb",
   "metadata": {},
   "source": [
    "# Extract Phase Scope and Channel Correlation Feature from a list of MP3 files"
   ]
  },
  {
   "cell_type": "code",
   "execution_count": 1,
   "id": "c5e42f6e",
   "metadata": {},
   "outputs": [],
   "source": [
    "import os\n",
    "import numpy as np\n",
    "import librosa\n",
    "import csv"
   ]
  },
  {
   "cell_type": "markdown",
   "id": "6d9811ce",
   "metadata": {},
   "source": [
    "# Set File Path"
   ]
  },
  {
   "cell_type": "code",
   "execution_count": 5,
   "id": "a1d23029",
   "metadata": {},
   "outputs": [],
   "source": [
    "path = r'C:\\path' #file path that contains mp3 files to be analyzed\n",
    "mp3list = []\n",
    "for root, dirs, files in os.walk(path):#loop to list all file paths\n",
    "    for file in files:\n",
    "        mp3list.append(os.path.join(root,file))\n",
    "        \n",
    "fs = 2048 # frame size\n",
    "ss = fs # step size"
   ]
  },
  {
   "cell_type": "markdown",
   "id": "79b2bd76",
   "metadata": {},
   "source": [
    "# Define Goniometer Feature Extractor"
   ]
  },
  {
   "cell_type": "code",
   "execution_count": 7,
   "id": "739de779",
   "metadata": {},
   "outputs": [],
   "source": [
    "# Extraction  of all recording studio features\n",
    "def goniometer(cut, fs, ss):\n",
    "    phasescope = []\n",
    "    corr=[]\n",
    "    for frame in range(int(len(cut[0])/fs)):\n",
    "        box = [[0,0] for i in range(fs)]\n",
    "        left = [0 for i in range(fs)]\n",
    "        for i in range(fs):\n",
    "            left[i]=cut[0][frame*ss+i]\n",
    "            box[i]=[int(round(left[i]*10)),int(round(cut[1][frame*ss+i]*10))]\n",
    "        corr.append(np.min(np.corrcoef(cut[0][frame*ss:frame*ss+fs],cut[1][frame*ss:frame*ss+fs])))\n",
    "        phasescope.append(len(np.unique(box))/400)\n",
    "    return phasescope, corr"
   ]
  },
  {
   "cell_type": "markdown",
   "id": "f02db67b",
   "metadata": {},
   "source": [
    "# Extract from Audio files and write into CSV files "
   ]
  },
  {
   "cell_type": "code",
   "execution_count": 2,
   "id": "e725a765",
   "metadata": {
    "scrolled": false
   },
   "outputs": [],
   "source": [
    "for n in range(len(mp3list)):\n",
    "    while True:\n",
    "        try:\n",
    "            array, sr=librosa.load(mp3list[n],sr=22050,mono=False)#will resample to 22050 Hz but NOT convert to mono\n",
    "            print(mp3list[n])\n",
    "            cut = [array[0][math.floor(len(array[0])/2)-fs*250:math.floor(len(array[0])/2)+fs*250],array[1][math.floor(len(array[0])/2)-fs*250:math.floor(len(array[0])/2)+fs*250]]\n",
    "# \"cut\" copies around 45 seconds from the middle of an audio file to extract the goniometer features\n",
    "# feel free to redefine \"cut\", e.g. as a complete stereo song or just a bunch of time frames\n",
    "            phasescope, corr = goniometer(cut, fs, ss)\n",
    "            features=[np.transpose(phasescope), np.transpose(corr)] \n",
    "            Details = ['PhaseScope', 'ChannelCorrelation']  \n",
    "            with open(mp3list[n]+'.csv', 'w', newline='') as f: \n",
    "                write = csv.writer(f) \n",
    "                write.writerow(Details) \n",
    "                write.writerows(np.transpose(features))\n",
    "        except:\n",
    "            break "
   ]
  }
 ],
 "metadata": {
  "kernelspec": {
   "display_name": "Python 3 (ipykernel)",
   "language": "python",
   "name": "python3"
  },
  "language_info": {
   "codemirror_mode": {
    "name": "ipython",
    "version": 3
   },
   "file_extension": ".py",
   "mimetype": "text/x-python",
   "name": "python",
   "nbconvert_exporter": "python",
   "pygments_lexer": "ipython3",
   "version": "3.10.7"
  }
 },
 "nbformat": 4,
 "nbformat_minor": 5
}
